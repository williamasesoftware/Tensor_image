{
 "cells": [
  {
   "cell_type": "code",
   "execution_count": 5,
   "metadata": {},
   "outputs": [
    {
     "name": "stdout",
     "output_type": "stream",
     "text": [
      "The darkest frames are: [ 2  3 37  1]\n"
     ]
    }
   ],
   "source": [
    "from PIL import Image\n",
    "import numpy as np\n",
    "\n",
    "im = Image.open(\"catgif.gif\")  # Open the input GIF file\n",
    "\n",
    "# Convert each frame to grayscale and calculate the mean pixel value\n",
    "mean_values = []  # Create an empty list to store the mean values of each frame\n",
    "frames = [] #new\n",
    "try:\n",
    "    while True:\n",
    "        im.seek(im.tell() + 1)  # Move to the next frame\n",
    "        grayscale_im = im.convert(\"L\")  # Convert the frame to grayscale\n",
    "        a = np.array(grayscale_im)  # Convert the image to a numpy array\n",
    "        mean_value = np.mean(a)  # Calculate the mean pixel value of the frame\n",
    "        mean_values.append(mean_value)  # Add the mean value to the list\n",
    "        frames.append(im.copy())  # Add a copy of the current frame to the list #new\n",
    "except EOFError:\n",
    "    pass  # End of file\n",
    "\n",
    "# Sort the mean values and find the indices of the darkest frames\n",
    "sorted_indices = np.argsort(mean_values)  # Find the indices that would sort the list\n",
    "darkest_frames = sorted_indices[:4]  # Get the first 10 indices (i.e., the darkest frames)\n",
    "\n",
    "print(\"The darkest frames are:\", darkest_frames)  # Print the indices of the darkest frames\n",
    "#new\n",
    "# Save the darkest frames as separate image files\n",
    "for i, frame_idx in enumerate(darkest_frames):\n",
    "    frame = frames[frame_idx]\n",
    "    frame.save(f\"dark_frame_{i}.png\")"
   ]
  }
 ],
 "metadata": {
  "kernelspec": {
   "display_name": "base",
   "language": "python",
   "name": "python3"
  },
  "language_info": {
   "codemirror_mode": {
    "name": "ipython",
    "version": 3
   },
   "file_extension": ".py",
   "mimetype": "text/x-python",
   "name": "python",
   "nbconvert_exporter": "python",
   "pygments_lexer": "ipython3",
   "version": "3.9.13"
  },
  "orig_nbformat": 4,
  "vscode": {
   "interpreter": {
    "hash": "e6f7f6c17190faf99dfe437bc19476375e3265e72065d05b4045299b29ac86fd"
   }
  }
 },
 "nbformat": 4,
 "nbformat_minor": 2
}
