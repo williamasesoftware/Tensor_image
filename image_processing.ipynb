{
 "cells": [
  {
   "cell_type": "code",
   "execution_count": 1,
   "metadata": {},
   "outputs": [],
   "source": [
    "from PIL import Image\n",
    "import numpy as np\n",
    "import imageio\n",
    "\n",
    "# Abrir el archivo GIF\n",
    "im = Image.open(\"catgif.gif\")\n",
    "\n",
    "def filter(im, scale):\n",
    "    fotogramas_modificados=[]\n",
    "    try:\n",
    "        while True:\n",
    "            # Leer la siguiente imagen del GIF\n",
    "            im.seek(im.tell() + 1)\n",
    "\n",
    "            # Convertir la imagen a un tensor de NumPy\n",
    "            tensor = np.array(im)\n",
    "\n",
    "            # Filtro de oscurecimiento e iluminación\n",
    "            scale_factor = scale  # factor de escala (entre 0 y 1 para disminuir intensidad, mayor que 1 para aumentarla)\n",
    "            tensor_filtered = np.clip(tensor * scale_factor, 0, 255).astype(np.uint8)\n",
    "\n",
    "            im_filtered = Image.fromarray(tensor_filtered)\n",
    "            # Guardar la imagen filtrada\n",
    "            im_filtered.save(f\"frame_{im.tell()}.png\")\n",
    "            \n",
    "            # Añadir el fotograma modificado a la lista\n",
    "            fotogramas_modificados.append(im_filtered)\n",
    "\n",
    "    except EOFError:\n",
    "        return fotogramas_modificados\n",
    "        pass\n",
    "\n",
    "\n",
    "fotogramas_modificados_dark = filter(im, 0.5)\n",
    "im = Image.open(\"catgif.gif\")\n",
    "fotogramas_modificados_light = filter(im, 1.5)\n",
    "\n",
    "# Guardar los fotogramas modificados en un nuevo archivo GIF\n",
    "imageio.mimsave(\"catgif_oscurecido.gif\", fotogramas_modificados_dark)\n",
    "imageio.mimsave(\"catgif_claro.gif\", fotogramas_modificados_light)"
   ]
  }
 ],
 "metadata": {
  "kernelspec": {
   "display_name": "base",
   "language": "python",
   "name": "python3"
  },
  "language_info": {
   "codemirror_mode": {
    "name": "ipython",
    "version": 3
   },
   "file_extension": ".py",
   "mimetype": "text/x-python",
   "name": "python",
   "nbconvert_exporter": "python",
   "pygments_lexer": "ipython3",
   "version": "3.9.13"
  },
  "orig_nbformat": 4,
  "vscode": {
   "interpreter": {
    "hash": "e6f7f6c17190faf99dfe437bc19476375e3265e72065d05b4045299b29ac86fd"
   }
  }
 },
 "nbformat": 4,
 "nbformat_minor": 2
}
