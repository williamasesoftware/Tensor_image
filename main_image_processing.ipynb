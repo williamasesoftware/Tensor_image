{
 "cells": [
  {
   "attachments": {},
   "cell_type": "markdown",
   "metadata": {},
   "source": [
    "Activity\n",
    "\n",
    "###### Group: Laura Mantilla - William Moreno - Andres Rincón"
   ]
  },
  {
   "cell_type": "code",
   "execution_count": 102,
   "metadata": {},
   "outputs": [
    {
     "name": "stdout",
     "output_type": "stream",
     "text": [
      "Image size: 300 x 382 pixels\n",
      "File format: GIF\n",
      "Canal color: P\n"
     ]
    }
   ],
   "source": [
    "from PIL import Image, ImageDraw\n",
    "import matplotlib.pyplot as plt\n",
    "import numpy as np\n",
    "import imageio\n",
    "import math\n",
    "\n",
    "#Open the gif\n",
    "im = Image.open(\"catgif.gif\")\n",
    "\n",
    "#Calculate the width and height \n",
    "width, height = im.size\n",
    "print(f\"Image size: {width} x {height} pixels\")\n",
    "\n",
    "#Give me the format of the file\n",
    "file_format = im.format\n",
    "print(f\"File format: {file_format}\")\n",
    "\n",
    "#Canal color\n",
    "color_mode = im.mode\n",
    "print(f\"Canal color: {color_mode}\")"
   ]
  },
  {
   "attachments": {},
   "cell_type": "markdown",
   "metadata": {},
   "source": [
    "1. Filters:"
   ]
  },
  {
   "cell_type": "code",
   "execution_count": 103,
   "metadata": {},
   "outputs": [],
   "source": [
    "def filter(im, scale):\n",
    "    changed_frames=[] #Tensor for modified frames\n",
    "    try:\n",
    "        while True:\n",
    "            #Read the next image from the GIF\n",
    "            im.seek(im.tell() + 1)\n",
    "\n",
    "            #Convert the image to a NumPy tensor\n",
    "            tensor = np.array(im)\n",
    "\n",
    "            #Darkening and Lighting filter\n",
    "            scale_factor = scale  #Scale factor (between 0 and 1 to decrease intensity, greater than 1 to increase it)\n",
    "            tensor_filtered = np.clip(tensor * scale_factor, 0, 255).astype(np.uint8) #Filter operation on a tensor, limiting the values of the tensor elements to the range (0,255)\n",
    "\n",
    "            im_filtered = Image.fromarray(tensor_filtered) #Therefore, the line of code creates a PIL image from the NumPy tensor_filtered array\n",
    "            \n",
    "            #Save the filtered image\n",
    "            #im_filtered.save(f\"frame_{im.tell()}.png\")\n",
    "            \n",
    "            #Add the modified frame to the list\n",
    "            changed_frames.append(im_filtered)\n",
    "\n",
    "    except EOFError:\n",
    "        return changed_frames\n",
    "\n",
    "#Filter dark\n",
    "changed_frames_dark = filter(im, 0.5)\n",
    "\n",
    "im = Image.open(\"catgif.gif\")\n",
    "#Filter light\n",
    "changed_frames_light = filter(im, 1.5)\n",
    "\n",
    "#Save changed frames to a new GIF file\n",
    "imageio.mimsave(\"catgif_dark.gif\", changed_frames_dark)\n",
    "imageio.mimsave(\"catgif_light.gif\", changed_frames_light)\n"
   ]
  },
  {
   "attachments": {},
   "cell_type": "markdown",
   "metadata": {},
   "source": [
    "2. Add:"
   ]
  },
  {
   "cell_type": "code",
   "execution_count": 104,
   "metadata": {},
   "outputs": [],
   "source": [
    "#Define the size of the circle mask\n",
    "circle_mask_size = (20, 20)\n",
    "\n",
    "#Define the position and speed of the circle\n",
    "circle_pos = np.array([100, 100]) #Initial position  \n",
    "circle_speed = 15 #Speed in pixels per frame\n",
    "circle_rotation_speed = 100 #Rotation speed in degrees per frame\n",
    "circle_rotation = 0  #Initial rotation angle\n",
    "\n",
    "#Open the GIF file\n",
    "im = Image.open(\"catgif.gif\")\n",
    "\n",
    "def add_motion_circle(im, scale, circle_pos, circle_rotation, circle_speed, circle_rotation_speed):\n",
    "    '''\n",
    "    Function to add a moving and rotating circle to a GIF.\n",
    "\n",
    "        args:\n",
    "            im(PIL.GifImagePlugin.GifImageFile): GIF image object.\n",
    "            scale (float): scale factor for the size of the circle.\n",
    "            circle_pos (np.ndarray): initial position of the circle as a numpy array with two elements (x, y).\n",
    "            circle_rotation (float): initial rotation angle of the circle in degrees.\n",
    "            circle_speed (float): The scroll speed of the circle in pixels per frame.\n",
    "            circle_rotation_speed (float): Circle rotation speed in degrees per frame.\n",
    "\n",
    "        Returns:\n",
    "            modified_frames(List[PIL.Image.Image]): List of PIL image objects for each modified frame of the GIF.\n",
    "    '''\n",
    "    modified_frames = []\n",
    "\n",
    "    try:\n",
    "        while True:\n",
    "            #Read the next image from the GIF\n",
    "            im.seek(im.tell() + 1)\n",
    "\n",
    "            #Draw the circle at the corresponding pixels\n",
    "            circle_pos_int = np.round(circle_pos).astype(int)\n",
    "            x1, y1 = circle_pos_int - np.array(circle_mask_size) // 2\n",
    "            x2, y2 = x1 + circle_mask_size[0], y1 + circle_mask_size[1]\n",
    "            draw = ImageDraw.Draw(im)\n",
    "            draw.ellipse((x1, y1, x2, y2), fill=255)\n",
    "\n",
    "            #Update the position and rotation of the circle for the next frame\n",
    "            circle_pos = circle_pos.astype(np.float64)\n",
    "            circle_pos += circle_speed * np.array([math.cos(circle_rotation), math.sin(circle_rotation)])\n",
    "            circle_rotation += math.radians(circle_rotation_speed)\n",
    "\n",
    "            #Converts the current image, which is in \"P\" format to \"RGB\" format\n",
    "            im_filtered = im.convert(\"RGB\")\n",
    "\n",
    "            #Add the modified frame to the list\n",
    "            modified_frames.append(im_filtered)\n",
    "\n",
    "    except EOFError:\n",
    "        return modified_frames\n",
    "    \n",
    "#Add the circle to the GIF\n",
    "modified_frames = add_motion_circle(im, 0.9999, circle_pos, circle_rotation, circle_speed, circle_rotation_speed)\n",
    "\n",
    "#Create a new GIF from the changed frames\n",
    "imageio.mimsave(\"catgif_object.gif\", modified_frames)\n"
   ]
  },
  {
   "attachments": {},
   "cell_type": "markdown",
   "metadata": {},
   "source": [
    "3. Moments:"
   ]
  },
  {
   "cell_type": "code",
   "execution_count": 105,
   "metadata": {},
   "outputs": [
    {
     "name": "stdout",
     "output_type": "stream",
     "text": [
      "The darkest frames are: [ 2  3 37  1]\n"
     ]
    }
   ],
   "source": [
    "im = Image.open(\"catgif.gif\")  # Open the input GIF file\n",
    "\n",
    "# Convert each frame to grayscale and calculate the mean pixel value\n",
    "mean_values = []  # Create an empty list to store the mean values of each frame\n",
    "frames = [] \n",
    "try:\n",
    "    while True:\n",
    "        im.seek(im.tell() + 1)  # Move to the next frame\n",
    "        grayscale_im = im.convert(\"L\")  # Convert the frame to grayscale\n",
    "        a = np.array(grayscale_im)  # Convert the image to a numpy array\n",
    "        mean_value = np.mean(a)  # Calculate the mean pixel value of the frame\n",
    "        mean_values.append(mean_value)  # Add the mean value to the list\n",
    "        frames.append(im.copy())  # Add a copy of the current frame to the list #new\n",
    "except EOFError:\n",
    "    pass  # End of file\n",
    "\n",
    "# Sort the mean values and find the indices of the darkest frames\n",
    "sorted_indices = np.argsort(mean_values)  # Find the indices that would sort the list\n",
    "darkest_frames = sorted_indices[:4]  # Get the first 10 indices (i.e., the darkest frames)\n",
    "\n",
    "print(\"The darkest frames are:\", darkest_frames)  # Print the indices of the darkest frames\n",
    "#new\n",
    "# Save the darkest frames as separate image files\n",
    "for i, frame_idx in enumerate(darkest_frames):\n",
    "    frame = frames[frame_idx]\n",
    "    frame.save(f\"dark_frame_{i}.png\")"
   ]
  }
 ],
 "metadata": {
  "kernelspec": {
   "display_name": "base",
   "language": "python",
   "name": "python3"
  },
  "language_info": {
   "codemirror_mode": {
    "name": "ipython",
    "version": 3
   },
   "file_extension": ".py",
   "mimetype": "text/x-python",
   "name": "python",
   "nbconvert_exporter": "python",
   "pygments_lexer": "ipython3",
   "version": "3.9.13"
  },
  "orig_nbformat": 4,
  "vscode": {
   "interpreter": {
    "hash": "e6f7f6c17190faf99dfe437bc19476375e3265e72065d05b4045299b29ac86fd"
   }
  }
 },
 "nbformat": 4,
 "nbformat_minor": 2
}
